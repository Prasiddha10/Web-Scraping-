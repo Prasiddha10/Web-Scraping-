{
  "metadata": {
    "language_info": {
      "name": ""
    },
    "kernelspec": {
      "name": "python",
      "display_name": "Python (Pyodide)",
      "language": "python"
    }
  },
  "nbformat_minor": 4,
  "nbformat": 4,
  "cells": [
    {
      "cell_type": "code",
      "source": "from bs4 import BeautifulSoup\nimport requests\n\n\nurl = 'https://realpython.github.io/fake-jobs/'\nhtml = requests.get(url)\nsoup = BeautifulSoup(html.content, 'html.parser')\n\nresults = soup.find(class_='container mb-5')\nheading = results.find_all('h1', class_='title is-1')\n\n\nwith open('flatfile.txt', 'w') as file:\n    \n    [file.write(i.text) for i in heading]\n    file.write('\\n')\n\n\n    apply_links = soup.find_all('a', string='Apply')\n\n    apply_urls = [link['href'] for link in apply_links]\n\n\n    for  urlss in apply_urls:\n        link_html = requests.get(urlss)\n        link_soup = BeautifulSoup(link_html.content, 'html.parser')\n\n        link_results = link_soup.find(id='ResultsContainer')\n\n        Jobbtitle = link_results.find_all('h1', class_='title is-2')         \n        # [print(i.text) for i in Jobbtitle]\n        [file.write(i.text) for i in Jobbtitle]\n\n        Writerss = link_results.find_all('h2', class_=' subtitle is-4 company')\n        # [print(i.text) for i in Writerss]\n        [file.write(i.text) for i in Writerss]\n        file.write('\\n')\n\n\n        Jobbdescription = link_soup.find_all('p', class_= False, id=False)\n        # [print(i.text) for i in Jobbdescription]\n        [file.write(i.text) for i in Jobbdescription]\n        file.write('\\n')\n        \n        link_location = link_results.find_all('p', id=\"location\")\n        for i in link_location:\n            i.strong.extract() \n            # print(i.text.strip())\n            file.write(i.text.strip())\n            file.write('\\n')\n\n        \n        link_date = link_results.find_all('p', id=\"date\")\n        for i in link_date:\n            i.strong.extract() \n            # print(i.text.strip())\n            file.write(i.text.strip())\n            file.write('\\n')\n\n        file.write('\\n')\n        file.write('\\n')",
      "metadata": {},
      "execution_count": null,
      "outputs": []
    }
  ]
}